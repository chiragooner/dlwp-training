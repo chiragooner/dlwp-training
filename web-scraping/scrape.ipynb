{
 "cells": [
  {
   "cell_type": "code",
   "execution_count": 140,
   "metadata": {},
   "outputs": [],
   "source": [
    "from bs4 import BeautifulSoup\n",
    "import requests\n",
    "import pandas as pd"
   ]
  },
  {
   "cell_type": "code",
   "execution_count": 141,
   "metadata": {},
   "outputs": [],
   "source": [
    "url = 'https://webscraper.io/test-sites/e-commerce/allinone'\n",
    "response = requests.get(url).text"
   ]
  },
  {
   "cell_type": "code",
   "execution_count": 142,
   "metadata": {},
   "outputs": [],
   "source": [
    "soup = BeautifulSoup(response, 'lxml')\n",
    "# print(soup.prettify())"
   ]
  },
  {
   "cell_type": "code",
   "execution_count": 143,
   "metadata": {},
   "outputs": [],
   "source": [
    "title_a_tags = soup.find_all('a', class_='category-link nav-link')"
   ]
  },
  {
   "cell_type": "code",
   "execution_count": 144,
   "metadata": {},
   "outputs": [
    {
     "data": {
      "text/plain": [
       "[<a class=\"category-link nav-link\" href=\"/test-sites/e-commerce/allinone/computers\">\n",
       " \t\t\t\t\tComputers\n",
       " \t\t\t\t\t<i class=\"ws-icon ws-icon-right\"></i>\n",
       " </a>,\n",
       " <a class=\"category-link nav-link\" href=\"/test-sites/e-commerce/allinone/phones\">\n",
       " \t\t\t\t\tPhones\n",
       " \t\t\t\t\t<i class=\"ws-icon ws-icon-right\"></i>\n",
       " </a>]"
      ]
     },
     "execution_count": 144,
     "metadata": {},
     "output_type": "execute_result"
    }
   ],
   "source": [
    "title_a_tags"
   ]
  },
  {
   "cell_type": "code",
   "execution_count": 145,
   "metadata": {},
   "outputs": [
    {
     "data": {
      "text/plain": [
       "['Computers', 'Phones']"
      ]
     },
     "execution_count": 145,
     "metadata": {},
     "output_type": "execute_result"
    }
   ],
   "source": [
    "categories = []\n",
    "\n",
    "for title in title_a_tags:\n",
    "    categories.append(title.text.strip())\n",
    "\n",
    "categories\n"
   ]
  },
  {
   "cell_type": "code",
   "execution_count": 146,
   "metadata": {},
   "outputs": [
    {
     "data": {
      "text/plain": [
       "['https://webscraper.io/test-sites/e-commerce/allinone/computers',\n",
       " 'https://webscraper.io/test-sites/e-commerce/allinone/phones']"
      ]
     },
     "execution_count": 146,
     "metadata": {},
     "output_type": "execute_result"
    }
   ],
   "source": [
    "title_links = []\n",
    "\n",
    "for tag in title_a_tags:\n",
    "    link = 'https://webscraper.io' + tag['href']\n",
    "    title_links.append(link)\n",
    "\n",
    "title_links\n"
   ]
  },
  {
   "cell_type": "code",
   "execution_count": 147,
   "metadata": {},
   "outputs": [],
   "source": [
    "data_dict = {\n",
    "    'title': categories,\n",
    "    'link': title_links\n",
    "}"
   ]
  },
  {
   "cell_type": "code",
   "execution_count": 148,
   "metadata": {},
   "outputs": [
    {
     "data": {
      "text/html": [
       "<div>\n",
       "<style scoped>\n",
       "    .dataframe tbody tr th:only-of-type {\n",
       "        vertical-align: middle;\n",
       "    }\n",
       "\n",
       "    .dataframe tbody tr th {\n",
       "        vertical-align: top;\n",
       "    }\n",
       "\n",
       "    .dataframe thead th {\n",
       "        text-align: right;\n",
       "    }\n",
       "</style>\n",
       "<table border=\"1\" class=\"dataframe\">\n",
       "  <thead>\n",
       "    <tr style=\"text-align: right;\">\n",
       "      <th></th>\n",
       "      <th>title</th>\n",
       "      <th>link</th>\n",
       "    </tr>\n",
       "  </thead>\n",
       "  <tbody>\n",
       "    <tr>\n",
       "      <th>0</th>\n",
       "      <td>Computers</td>\n",
       "      <td>https://webscraper.io/test-sites/e-commerce/al...</td>\n",
       "    </tr>\n",
       "    <tr>\n",
       "      <th>1</th>\n",
       "      <td>Phones</td>\n",
       "      <td>https://webscraper.io/test-sites/e-commerce/al...</td>\n",
       "    </tr>\n",
       "  </tbody>\n",
       "</table>\n",
       "</div>"
      ],
      "text/plain": [
       "       title                                               link\n",
       "0  Computers  https://webscraper.io/test-sites/e-commerce/al...\n",
       "1     Phones  https://webscraper.io/test-sites/e-commerce/al..."
      ]
     },
     "execution_count": 148,
     "metadata": {},
     "output_type": "execute_result"
    }
   ],
   "source": [
    "data_df = pd.DataFrame(data_dict)\n",
    "data_df"
   ]
  },
  {
   "cell_type": "code",
   "execution_count": 149,
   "metadata": {},
   "outputs": [],
   "source": [
    "computers_url = title_links[0]\n",
    "phones_url = title_links[1]\n",
    "\n",
    "computers_response = requests.get(computers_url).text\n",
    "soup_computers = BeautifulSoup(computers_response, 'lxml')\n",
    "\n",
    "# print(soup_computers.prettify())\n",
    "# print(soup_phones.prettify())"
   ]
  },
  {
   "cell_type": "code",
   "execution_count": 150,
   "metadata": {},
   "outputs": [
    {
     "data": {
      "text/plain": [
       "[<a class=\"nav-link subcategory-link\" href=\"/test-sites/e-commerce/allinone/computers/laptops\">\n",
       " \t\t\t\t\t\t\tLaptops\n",
       " \t\t\t\t\t\t</a>,\n",
       " <a class=\"nav-link subcategory-link\" href=\"/test-sites/e-commerce/allinone/computers/tablets\">\n",
       " \t\t\t\t\t\t\tTablets\n",
       " \t\t\t\t\t\t</a>]"
      ]
     },
     "execution_count": 150,
     "metadata": {},
     "output_type": "execute_result"
    }
   ],
   "source": [
    "computer_sub_category_tags = soup_computers.find_all(\"a\" , class_ = \"subcategory-link\")\n",
    "\n",
    "computer_sub_category_tags"
   ]
  },
  {
   "cell_type": "code",
   "execution_count": 151,
   "metadata": {},
   "outputs": [
    {
     "data": {
      "text/plain": [
       "['Laptops', 'Tablets']"
      ]
     },
     "execution_count": 151,
     "metadata": {},
     "output_type": "execute_result"
    }
   ],
   "source": [
    "computer_sub_categories = []\n",
    "\n",
    "for sub_category in computer_sub_category_tags:\n",
    "    computer_sub_categories.append(sub_category.text.strip())\n",
    "\n",
    "computer_sub_categories"
   ]
  },
  {
   "cell_type": "code",
   "execution_count": 152,
   "metadata": {},
   "outputs": [
    {
     "data": {
      "text/plain": [
       "['https://webscraper.io/test-sites/e-commerce/allinone/computers/laptops',\n",
       " 'https://webscraper.io/test-sites/e-commerce/allinone/computers/tablets']"
      ]
     },
     "execution_count": 152,
     "metadata": {},
     "output_type": "execute_result"
    }
   ],
   "source": [
    "computer_sub_categories_url = []\n",
    "\n",
    "for tag in computer_sub_category_tags:\n",
    "    link = 'https://webscraper.io' + tag['href']\n",
    "    computer_sub_categories_url.append(link)\n",
    "\n",
    "computer_sub_categories_url"
   ]
  },
  {
   "cell_type": "code",
   "execution_count": 153,
   "metadata": {},
   "outputs": [],
   "source": [
    "laptops_response = requests.get(computer_sub_categories_url[0]).text\n",
    "soup_laptops = BeautifulSoup(laptops_response,'lxml')\n",
    "\n",
    "tablets_response = requests.get(computer_sub_categories_url[1]).text\n",
    "soup_tablets = BeautifulSoup(tablets_response,'lxml')"
   ]
  },
  {
   "cell_type": "code",
   "execution_count": 154,
   "metadata": {},
   "outputs": [],
   "source": [
    "# print(soup_laptops.prettify())"
   ]
  },
  {
   "cell_type": "code",
   "execution_count": 155,
   "metadata": {},
   "outputs": [],
   "source": [
    "# print(soup_tablets.prettify())"
   ]
  },
  {
   "cell_type": "code",
   "execution_count": 156,
   "metadata": {},
   "outputs": [
    {
     "data": {
      "text/plain": [
       "<div class=\"card thumbnail\">\n",
       "<div class=\"product-wrapper card-body\">\n",
       "<img alt=\"item\" class=\"img-fluid card-img-top image img-responsive\" src=\"/images/test-sites/e-commerce/items/cart2.png\"/>\n",
       "<div class=\"caption\">\n",
       "<h4 class=\"price float-end card-title pull-right\">$295.99</h4>\n",
       "<h4>\n",
       "<a class=\"title\" href=\"/test-sites/e-commerce/allinone/product/60\" title=\"Asus VivoBook X441NA-GA190\">Asus VivoBook...</a>\n",
       "</h4>\n",
       "<p class=\"description card-text\">Asus VivoBook X441NA-GA190 Chocolate Black, 14\", Celeron N3450, 4GB, 128GB SSD, Endless OS, ENG kbd</p>\n",
       "</div>\n",
       "<div class=\"ratings\">\n",
       "<p class=\"review-count float-end\">14 reviews</p>\n",
       "<p data-rating=\"3\">\n",
       "<span class=\"ws-icon ws-icon-star\"></span>\n",
       "<span class=\"ws-icon ws-icon-star\"></span>\n",
       "<span class=\"ws-icon ws-icon-star\"></span>\n",
       "</p>\n",
       "</div>\n",
       "</div>\n",
       "</div>"
      ]
     },
     "execution_count": 156,
     "metadata": {},
     "output_type": "execute_result"
    }
   ],
   "source": [
    "laptops_content_tags = soup_laptops.find_all('div',class_='card thumbnail')\n",
    "laptops_content_tags[0]"
   ]
  },
  {
   "cell_type": "code",
   "execution_count": 167,
   "metadata": {},
   "outputs": [
    {
     "data": {
      "text/plain": [
       "117"
      ]
     },
     "execution_count": 167,
     "metadata": {},
     "output_type": "execute_result"
    }
   ],
   "source": [
    "laptops_titles = []\n",
    "laptops_prices = []\n",
    "laptops_ratings = []\n",
    "laptops_captions = []\n",
    "laptops_no_of_reviews = []\n",
    "\n",
    "for tag in laptops_content_tags:\n",
    "    laptops_titles.append((tag.find('a',class_='title'))['title'])\n",
    "    laptops_prices.append((tag.find('h4',class_='price')).text.strip())\n",
    "    laptops_ratings.append((tag.find('p',attrs={'data-rating':True})['data-rating']) + '/5 Stars')\n",
    "    laptops_no_of_reviews.append((tag.find('p',class_='review-count')).text.strip())\n",
    "    laptops_captions.append((tag.find('p',class_='description')).text.strip())\n",
    "\n",
    "len(laptops_no_of_reviews)"
   ]
  },
  {
   "cell_type": "code",
   "execution_count": 169,
   "metadata": {},
   "outputs": [
    {
     "data": {
      "text/html": [
       "<div>\n",
       "<style scoped>\n",
       "    .dataframe tbody tr th:only-of-type {\n",
       "        vertical-align: middle;\n",
       "    }\n",
       "\n",
       "    .dataframe tbody tr th {\n",
       "        vertical-align: top;\n",
       "    }\n",
       "\n",
       "    .dataframe thead th {\n",
       "        text-align: right;\n",
       "    }\n",
       "</style>\n",
       "<table border=\"1\" class=\"dataframe\">\n",
       "  <thead>\n",
       "    <tr style=\"text-align: right;\">\n",
       "      <th></th>\n",
       "      <th>Name</th>\n",
       "      <th>Price</th>\n",
       "      <th>Description</th>\n",
       "      <th>Rating</th>\n",
       "      <th>No of Reviews</th>\n",
       "    </tr>\n",
       "  </thead>\n",
       "  <tbody>\n",
       "    <tr>\n",
       "      <th>0</th>\n",
       "      <td>Asus VivoBook X441NA-GA190</td>\n",
       "      <td>$295.99</td>\n",
       "      <td>Asus VivoBook X441NA-GA190 Chocolate Black, 14...</td>\n",
       "      <td>3/5 Stars</td>\n",
       "      <td>14 reviews</td>\n",
       "    </tr>\n",
       "    <tr>\n",
       "      <th>1</th>\n",
       "      <td>Prestigio SmartBook 133S Dark Grey</td>\n",
       "      <td>$299</td>\n",
       "      <td>Prestigio SmartBook 133S Dark Grey, 13.3\" FHD ...</td>\n",
       "      <td>2/5 Stars</td>\n",
       "      <td>8 reviews</td>\n",
       "    </tr>\n",
       "    <tr>\n",
       "      <th>2</th>\n",
       "      <td>Prestigio SmartBook 133S Gold</td>\n",
       "      <td>$299</td>\n",
       "      <td>Prestigio SmartBook 133S Gold, 13.3\" FHD IPS, ...</td>\n",
       "      <td>4/5 Stars</td>\n",
       "      <td>12 reviews</td>\n",
       "    </tr>\n",
       "    <tr>\n",
       "      <th>3</th>\n",
       "      <td>Aspire E1-510</td>\n",
       "      <td>$306.99</td>\n",
       "      <td>15.6\", Pentium N3520 2.16GHz, 4GB, 500GB, Linux</td>\n",
       "      <td>3/5 Stars</td>\n",
       "      <td>2 reviews</td>\n",
       "    </tr>\n",
       "    <tr>\n",
       "      <th>4</th>\n",
       "      <td>Lenovo V110-15IAP</td>\n",
       "      <td>$321.94</td>\n",
       "      <td>Lenovo V110-15IAP, 15.6\" HD, Celeron N3350 1.1...</td>\n",
       "      <td>3/5 Stars</td>\n",
       "      <td>5 reviews</td>\n",
       "    </tr>\n",
       "    <tr>\n",
       "      <th>...</th>\n",
       "      <td>...</td>\n",
       "      <td>...</td>\n",
       "      <td>...</td>\n",
       "      <td>...</td>\n",
       "      <td>...</td>\n",
       "    </tr>\n",
       "    <tr>\n",
       "      <th>112</th>\n",
       "      <td>Lenovo Legion Y720</td>\n",
       "      <td>$1399</td>\n",
       "      <td>Lenovo Legion Y720, 15.6\" FHD IPS, Core i7-770...</td>\n",
       "      <td>3/5 Stars</td>\n",
       "      <td>8 reviews</td>\n",
       "    </tr>\n",
       "    <tr>\n",
       "      <th>113</th>\n",
       "      <td>Asus ROG Strix GL702VM-GC146T</td>\n",
       "      <td>$1399</td>\n",
       "      <td>Asus ROG Strix GL702VM-GC146T, 17.3\" FHD, Core...</td>\n",
       "      <td>3/5 Stars</td>\n",
       "      <td>10 reviews</td>\n",
       "    </tr>\n",
       "    <tr>\n",
       "      <th>114</th>\n",
       "      <td>Asus ROG Strix GL702ZC-GC154T</td>\n",
       "      <td>$1769</td>\n",
       "      <td>Asus ROG Strix GL702ZC-GC154T, 17.3\" FHD, Ryze...</td>\n",
       "      <td>4/5 Stars</td>\n",
       "      <td>7 reviews</td>\n",
       "    </tr>\n",
       "    <tr>\n",
       "      <th>115</th>\n",
       "      <td>Asus ROG Strix GL702ZC-GC209T</td>\n",
       "      <td>$1769</td>\n",
       "      <td>Asus ROG Strix GL702ZC-GC209T, 17.3\" FHD IPS, ...</td>\n",
       "      <td>1/5 Stars</td>\n",
       "      <td>8 reviews</td>\n",
       "    </tr>\n",
       "    <tr>\n",
       "      <th>116</th>\n",
       "      <td>Asus ROG Strix SCAR Edition GL503VM-ED115T</td>\n",
       "      <td>$1799</td>\n",
       "      <td>Asus ROG Strix SCAR Edition GL503VM-ED115T, 15...</td>\n",
       "      <td>3/5 Stars</td>\n",
       "      <td>8 reviews</td>\n",
       "    </tr>\n",
       "  </tbody>\n",
       "</table>\n",
       "<p>117 rows × 5 columns</p>\n",
       "</div>"
      ],
      "text/plain": [
       "                                           Name    Price  \\\n",
       "0                    Asus VivoBook X441NA-GA190  $295.99   \n",
       "1            Prestigio SmartBook 133S Dark Grey     $299   \n",
       "2                 Prestigio SmartBook 133S Gold     $299   \n",
       "3                                 Aspire E1-510  $306.99   \n",
       "4                             Lenovo V110-15IAP  $321.94   \n",
       "..                                          ...      ...   \n",
       "112                          Lenovo Legion Y720    $1399   \n",
       "113               Asus ROG Strix GL702VM-GC146T    $1399   \n",
       "114               Asus ROG Strix GL702ZC-GC154T    $1769   \n",
       "115               Asus ROG Strix GL702ZC-GC209T    $1769   \n",
       "116  Asus ROG Strix SCAR Edition GL503VM-ED115T    $1799   \n",
       "\n",
       "                                           Description     Rating  \\\n",
       "0    Asus VivoBook X441NA-GA190 Chocolate Black, 14...  3/5 Stars   \n",
       "1    Prestigio SmartBook 133S Dark Grey, 13.3\" FHD ...  2/5 Stars   \n",
       "2    Prestigio SmartBook 133S Gold, 13.3\" FHD IPS, ...  4/5 Stars   \n",
       "3      15.6\", Pentium N3520 2.16GHz, 4GB, 500GB, Linux  3/5 Stars   \n",
       "4    Lenovo V110-15IAP, 15.6\" HD, Celeron N3350 1.1...  3/5 Stars   \n",
       "..                                                 ...        ...   \n",
       "112  Lenovo Legion Y720, 15.6\" FHD IPS, Core i7-770...  3/5 Stars   \n",
       "113  Asus ROG Strix GL702VM-GC146T, 17.3\" FHD, Core...  3/5 Stars   \n",
       "114  Asus ROG Strix GL702ZC-GC154T, 17.3\" FHD, Ryze...  4/5 Stars   \n",
       "115  Asus ROG Strix GL702ZC-GC209T, 17.3\" FHD IPS, ...  1/5 Stars   \n",
       "116  Asus ROG Strix SCAR Edition GL503VM-ED115T, 15...  3/5 Stars   \n",
       "\n",
       "    No of Reviews  \n",
       "0      14 reviews  \n",
       "1       8 reviews  \n",
       "2      12 reviews  \n",
       "3       2 reviews  \n",
       "4       5 reviews  \n",
       "..            ...  \n",
       "112     8 reviews  \n",
       "113    10 reviews  \n",
       "114     7 reviews  \n",
       "115     8 reviews  \n",
       "116     8 reviews  \n",
       "\n",
       "[117 rows x 5 columns]"
      ]
     },
     "execution_count": 169,
     "metadata": {},
     "output_type": "execute_result"
    }
   ],
   "source": [
    "laptops_dict = {\n",
    "    'Name': laptops_titles,\n",
    "    'Price': laptops_prices,\n",
    "    'Description': laptops_captions,\n",
    "    'Rating': laptops_ratings,\n",
    "    'No of Reviews': laptops_no_of_reviews\n",
    "}\n",
    "\n",
    "pd.DataFrame(laptops_dict)"
   ]
  },
  {
   "cell_type": "code",
   "execution_count": null,
   "metadata": {},
   "outputs": [
    {
     "data": {
      "text/plain": [
       "<div class=\"card thumbnail\">\n",
       "<div class=\"product-wrapper card-body\">\n",
       "<img alt=\"item\" class=\"img-fluid card-img-top image img-responsive\" src=\"/images/test-sites/e-commerce/items/cart2.png\"/>\n",
       "<div class=\"caption\">\n",
       "<h4 class=\"price float-end card-title pull-right\">$69.99</h4>\n",
       "<h4>\n",
       "<a class=\"title\" href=\"/test-sites/e-commerce/allinone/product/10\" title=\"Lenovo IdeaTab\">Lenovo IdeaTab</a>\n",
       "</h4>\n",
       "<p class=\"description card-text\">7\" screen, Android</p>\n",
       "</div>\n",
       "<div class=\"ratings\">\n",
       "<p class=\"review-count float-end\">7 reviews</p>\n",
       "<p data-rating=\"3\">\n",
       "<span class=\"ws-icon ws-icon-star\"></span>\n",
       "<span class=\"ws-icon ws-icon-star\"></span>\n",
       "<span class=\"ws-icon ws-icon-star\"></span>\n",
       "</p>\n",
       "</div>\n",
       "</div>\n",
       "</div>"
      ]
     },
     "execution_count": 112,
     "metadata": {},
     "output_type": "execute_result"
    }
   ],
   "source": [
    "tablets_content_tags = soup_tablets.find_all('div',class_='card thumbnail')\n",
    "\n",
    "tablets_content_tags[0]"
   ]
  },
  {
   "cell_type": "code",
   "execution_count": null,
   "metadata": {},
   "outputs": [
    {
     "data": {
      "text/plain": [
       "['7\" screen, Android',\n",
       " 'Black, 7\" IPS, Quad-Core 1.2GHz, 8GB, Android 4.2',\n",
       " '7\" screen, Android, 16GB',\n",
       " '7\", 8GB, Wi-Fi, Android 4.2, White',\n",
       " 'Black, 7\", 1.6GHz Dual-Core, 8GB, Android 4.4',\n",
       " 'IPS, Dual-Core 1.2GHz, 8GB, Android 4.3',\n",
       " '7\" screen, Android, 8GB',\n",
       " '6\" screen, wifi',\n",
       " '7\", 8GB, Wi-Fi, Android 4.2, Yellow',\n",
       " 'Blue, 8\" IPS, Quad-Core 1.3GHz, 16GB, Android 4.2',\n",
       " 'White, 7\", Atom 1.2GHz, 8GB, Android 4.4',\n",
       " 'Blue, 7\" IPS, Quad-Core 1.3GHz, 8GB, 3G, Android 4.2',\n",
       " 'Silver, 7\" IPS, Quad-Core 1.2Ghz, 16GB, 3G, Android 4.2',\n",
       " 'LTE (SM-T235), Quad-Core 1.2GHz, 8GB, Black',\n",
       " '16GB, White',\n",
       " 'White, 10.1\" IPS, 1.6GHz, 2GB, 16GB, Android 4.2',\n",
       " '10.1\", 3G, Android 4.0, Garnet Red',\n",
       " '12.2\", 32GB, WiFi, Android 4.4, White',\n",
       " 'Wi-Fi + Cellular, 32GB, Silver',\n",
       " '10.1\", 32GB, Black',\n",
       " 'Wi-Fi, 64GB, Silver']"
      ]
     },
     "execution_count": 125,
     "metadata": {},
     "output_type": "execute_result"
    }
   ],
   "source": [
    "tablets_titles = []\n",
    "tablets_prices = []\n",
    "tablets_ratings = []\n",
    "tablets_captions = []\n",
    "tablets_no_of_reviews = []\n",
    "\n",
    "for tag in tablets_content_tags:\n",
    "    tablets_titles.append((tag.find('a',class_='title'))['title'])\n",
    "    tablets_prices.append((tag.find('h4',class_='price')).text.strip())\n",
    "    tablets_ratings.append((tag.find('p',attrs={'data-rating':True})['data-rating']) + '/5 Stars')\n",
    "    tablets_no_of_reviews.append((tag.find('p',class_='review-count')).text.strip())\n",
    "    tablets_captions.append((tag.find('p',class_='description')).text.strip())"
   ]
  },
  {
   "cell_type": "code",
   "execution_count": null,
   "metadata": {},
   "outputs": [
    {
     "data": {
      "text/html": [
       "<div>\n",
       "<style scoped>\n",
       "    .dataframe tbody tr th:only-of-type {\n",
       "        vertical-align: middle;\n",
       "    }\n",
       "\n",
       "    .dataframe tbody tr th {\n",
       "        vertical-align: top;\n",
       "    }\n",
       "\n",
       "    .dataframe thead th {\n",
       "        text-align: right;\n",
       "    }\n",
       "</style>\n",
       "<table border=\"1\" class=\"dataframe\">\n",
       "  <thead>\n",
       "    <tr style=\"text-align: right;\">\n",
       "      <th></th>\n",
       "      <th>Name</th>\n",
       "      <th>Price</th>\n",
       "      <th>Description</th>\n",
       "      <th>Rating</th>\n",
       "      <th>No of Reviews</th>\n",
       "    </tr>\n",
       "  </thead>\n",
       "  <tbody>\n",
       "    <tr>\n",
       "      <th>0</th>\n",
       "      <td>Lenovo IdeaTab</td>\n",
       "      <td>$69.99</td>\n",
       "      <td>7\" screen, Android</td>\n",
       "      <td>3/5 Stars</td>\n",
       "      <td>7 reviews</td>\n",
       "    </tr>\n",
       "    <tr>\n",
       "      <th>1</th>\n",
       "      <td>IdeaTab A3500L</td>\n",
       "      <td>$88.99</td>\n",
       "      <td>Black, 7\" IPS, Quad-Core 1.2GHz, 8GB, Android 4.2</td>\n",
       "      <td>4/5 Stars</td>\n",
       "      <td>7 reviews</td>\n",
       "    </tr>\n",
       "    <tr>\n",
       "      <th>2</th>\n",
       "      <td>Acer Iconia</td>\n",
       "      <td>$96.99</td>\n",
       "      <td>7\" screen, Android, 16GB</td>\n",
       "      <td>1/5 Stars</td>\n",
       "      <td>7 reviews</td>\n",
       "    </tr>\n",
       "    <tr>\n",
       "      <th>3</th>\n",
       "      <td>Galaxy Tab 3</td>\n",
       "      <td>$97.99</td>\n",
       "      <td>7\", 8GB, Wi-Fi, Android 4.2, White</td>\n",
       "      <td>2/5 Stars</td>\n",
       "      <td>2 reviews</td>\n",
       "    </tr>\n",
       "    <tr>\n",
       "      <th>4</th>\n",
       "      <td>Iconia B1-730HD</td>\n",
       "      <td>$99.99</td>\n",
       "      <td>Black, 7\", 1.6GHz Dual-Core, 8GB, Android 4.4</td>\n",
       "      <td>3/5 Stars</td>\n",
       "      <td>1 reviews</td>\n",
       "    </tr>\n",
       "    <tr>\n",
       "      <th>5</th>\n",
       "      <td>Memo Pad HD 7</td>\n",
       "      <td>$101.99</td>\n",
       "      <td>IPS, Dual-Core 1.2GHz, 8GB, Android 4.3</td>\n",
       "      <td>2/5 Stars</td>\n",
       "      <td>10 reviews</td>\n",
       "    </tr>\n",
       "    <tr>\n",
       "      <th>6</th>\n",
       "      <td>Asus MeMO Pad</td>\n",
       "      <td>$102.99</td>\n",
       "      <td>7\" screen, Android, 8GB</td>\n",
       "      <td>4/5 Stars</td>\n",
       "      <td>14 reviews</td>\n",
       "    </tr>\n",
       "    <tr>\n",
       "      <th>7</th>\n",
       "      <td>Amazon Kindle</td>\n",
       "      <td>$103.99</td>\n",
       "      <td>6\" screen, wifi</td>\n",
       "      <td>4/5 Stars</td>\n",
       "      <td>3 reviews</td>\n",
       "    </tr>\n",
       "    <tr>\n",
       "      <th>8</th>\n",
       "      <td>Galaxy Tab 3</td>\n",
       "      <td>$107.99</td>\n",
       "      <td>7\", 8GB, Wi-Fi, Android 4.2, Yellow</td>\n",
       "      <td>2/5 Stars</td>\n",
       "      <td>14 reviews</td>\n",
       "    </tr>\n",
       "    <tr>\n",
       "      <th>9</th>\n",
       "      <td>IdeaTab A8-50</td>\n",
       "      <td>$121.99</td>\n",
       "      <td>Blue, 8\" IPS, Quad-Core 1.3GHz, 16GB, Android 4.2</td>\n",
       "      <td>2/5 Stars</td>\n",
       "      <td>13 reviews</td>\n",
       "    </tr>\n",
       "    <tr>\n",
       "      <th>10</th>\n",
       "      <td>MeMO Pad 7</td>\n",
       "      <td>$130.99</td>\n",
       "      <td>White, 7\", Atom 1.2GHz, 8GB, Android 4.4</td>\n",
       "      <td>1/5 Stars</td>\n",
       "      <td>11 reviews</td>\n",
       "    </tr>\n",
       "    <tr>\n",
       "      <th>11</th>\n",
       "      <td>IdeaTab A3500-H</td>\n",
       "      <td>$148.99</td>\n",
       "      <td>Blue, 7\" IPS, Quad-Core 1.3GHz, 8GB, 3G, Andro...</td>\n",
       "      <td>2/5 Stars</td>\n",
       "      <td>9 reviews</td>\n",
       "    </tr>\n",
       "    <tr>\n",
       "      <th>12</th>\n",
       "      <td>IdeaTab S5000</td>\n",
       "      <td>$172.99</td>\n",
       "      <td>Silver, 7\" IPS, Quad-Core 1.2Ghz, 16GB, 3G, An...</td>\n",
       "      <td>3/5 Stars</td>\n",
       "      <td>8 reviews</td>\n",
       "    </tr>\n",
       "    <tr>\n",
       "      <th>13</th>\n",
       "      <td>Galaxy Tab 4</td>\n",
       "      <td>$233.99</td>\n",
       "      <td>LTE (SM-T235), Quad-Core 1.2GHz, 8GB, Black</td>\n",
       "      <td>4/5 Stars</td>\n",
       "      <td>1 reviews</td>\n",
       "    </tr>\n",
       "    <tr>\n",
       "      <th>14</th>\n",
       "      <td>Galaxy Tab</td>\n",
       "      <td>$251.99</td>\n",
       "      <td>16GB, White</td>\n",
       "      <td>3/5 Stars</td>\n",
       "      <td>14 reviews</td>\n",
       "    </tr>\n",
       "    <tr>\n",
       "      <th>15</th>\n",
       "      <td>MeMo PAD FHD 10</td>\n",
       "      <td>$320.99</td>\n",
       "      <td>White, 10.1\" IPS, 1.6GHz, 2GB, 16GB, Android 4.2</td>\n",
       "      <td>2/5 Stars</td>\n",
       "      <td>7 reviews</td>\n",
       "    </tr>\n",
       "    <tr>\n",
       "      <th>16</th>\n",
       "      <td>Galaxy Note</td>\n",
       "      <td>$399.99</td>\n",
       "      <td>10.1\", 3G, Android 4.0, Garnet Red</td>\n",
       "      <td>4/5 Stars</td>\n",
       "      <td>12 reviews</td>\n",
       "    </tr>\n",
       "    <tr>\n",
       "      <th>17</th>\n",
       "      <td>Galaxy Note</td>\n",
       "      <td>$489.99</td>\n",
       "      <td>12.2\", 32GB, WiFi, Android 4.4, White</td>\n",
       "      <td>3/5 Stars</td>\n",
       "      <td>9 reviews</td>\n",
       "    </tr>\n",
       "    <tr>\n",
       "      <th>18</th>\n",
       "      <td>iPad Mini Retina</td>\n",
       "      <td>$537.99</td>\n",
       "      <td>Wi-Fi + Cellular, 32GB, Silver</td>\n",
       "      <td>2/5 Stars</td>\n",
       "      <td>8 reviews</td>\n",
       "    </tr>\n",
       "    <tr>\n",
       "      <th>19</th>\n",
       "      <td>Galaxy Note 10.1</td>\n",
       "      <td>$587.99</td>\n",
       "      <td>10.1\", 32GB, Black</td>\n",
       "      <td>2/5 Stars</td>\n",
       "      <td>6 reviews</td>\n",
       "    </tr>\n",
       "    <tr>\n",
       "      <th>20</th>\n",
       "      <td>Apple iPad Air</td>\n",
       "      <td>$603.99</td>\n",
       "      <td>Wi-Fi, 64GB, Silver</td>\n",
       "      <td>3/5 Stars</td>\n",
       "      <td>7 reviews</td>\n",
       "    </tr>\n",
       "  </tbody>\n",
       "</table>\n",
       "</div>"
      ],
      "text/plain": [
       "                Name    Price  \\\n",
       "0     Lenovo IdeaTab   $69.99   \n",
       "1     IdeaTab A3500L   $88.99   \n",
       "2        Acer Iconia   $96.99   \n",
       "3       Galaxy Tab 3   $97.99   \n",
       "4    Iconia B1-730HD   $99.99   \n",
       "5      Memo Pad HD 7  $101.99   \n",
       "6      Asus MeMO Pad  $102.99   \n",
       "7      Amazon Kindle  $103.99   \n",
       "8       Galaxy Tab 3  $107.99   \n",
       "9      IdeaTab A8-50  $121.99   \n",
       "10        MeMO Pad 7  $130.99   \n",
       "11   IdeaTab A3500-H  $148.99   \n",
       "12     IdeaTab S5000  $172.99   \n",
       "13      Galaxy Tab 4  $233.99   \n",
       "14        Galaxy Tab  $251.99   \n",
       "15   MeMo PAD FHD 10  $320.99   \n",
       "16       Galaxy Note  $399.99   \n",
       "17       Galaxy Note  $489.99   \n",
       "18  iPad Mini Retina  $537.99   \n",
       "19  Galaxy Note 10.1  $587.99   \n",
       "20    Apple iPad Air  $603.99   \n",
       "\n",
       "                                          Description     Rating No of Reviews  \n",
       "0                                  7\" screen, Android  3/5 Stars     7 reviews  \n",
       "1   Black, 7\" IPS, Quad-Core 1.2GHz, 8GB, Android 4.2  4/5 Stars     7 reviews  \n",
       "2                            7\" screen, Android, 16GB  1/5 Stars     7 reviews  \n",
       "3                  7\", 8GB, Wi-Fi, Android 4.2, White  2/5 Stars     2 reviews  \n",
       "4       Black, 7\", 1.6GHz Dual-Core, 8GB, Android 4.4  3/5 Stars     1 reviews  \n",
       "5             IPS, Dual-Core 1.2GHz, 8GB, Android 4.3  2/5 Stars    10 reviews  \n",
       "6                             7\" screen, Android, 8GB  4/5 Stars    14 reviews  \n",
       "7                                     6\" screen, wifi  4/5 Stars     3 reviews  \n",
       "8                 7\", 8GB, Wi-Fi, Android 4.2, Yellow  2/5 Stars    14 reviews  \n",
       "9   Blue, 8\" IPS, Quad-Core 1.3GHz, 16GB, Android 4.2  2/5 Stars    13 reviews  \n",
       "10           White, 7\", Atom 1.2GHz, 8GB, Android 4.4  1/5 Stars    11 reviews  \n",
       "11  Blue, 7\" IPS, Quad-Core 1.3GHz, 8GB, 3G, Andro...  2/5 Stars     9 reviews  \n",
       "12  Silver, 7\" IPS, Quad-Core 1.2Ghz, 16GB, 3G, An...  3/5 Stars     8 reviews  \n",
       "13        LTE (SM-T235), Quad-Core 1.2GHz, 8GB, Black  4/5 Stars     1 reviews  \n",
       "14                                        16GB, White  3/5 Stars    14 reviews  \n",
       "15   White, 10.1\" IPS, 1.6GHz, 2GB, 16GB, Android 4.2  2/5 Stars     7 reviews  \n",
       "16                 10.1\", 3G, Android 4.0, Garnet Red  4/5 Stars    12 reviews  \n",
       "17              12.2\", 32GB, WiFi, Android 4.4, White  3/5 Stars     9 reviews  \n",
       "18                     Wi-Fi + Cellular, 32GB, Silver  2/5 Stars     8 reviews  \n",
       "19                                 10.1\", 32GB, Black  2/5 Stars     6 reviews  \n",
       "20                                Wi-Fi, 64GB, Silver  3/5 Stars     7 reviews  "
      ]
     },
     "execution_count": 126,
     "metadata": {},
     "output_type": "execute_result"
    }
   ],
   "source": [
    "tablets_dict = {\n",
    "    'Name': tablets_titles,\n",
    "    'Price': tablets_prices,\n",
    "    'Description': tablets_captions,\n",
    "    'Rating': tablets_ratings,\n",
    "    'No of Reviews': tablets_no_of_reviews\n",
    "}\n",
    "\n",
    "pd.DataFrame(tablets_dict)"
   ]
  },
  {
   "cell_type": "code",
   "execution_count": null,
   "metadata": {},
   "outputs": [],
   "source": [
    "phones_response = requests.get(phones_url).text\n",
    "soup_phones = BeautifulSoup(phones_response, 'lxml')"
   ]
  },
  {
   "cell_type": "code",
   "execution_count": null,
   "metadata": {},
   "outputs": [
    {
     "data": {
      "text/plain": [
       "[<a class=\"nav-link subcategory-link\" href=\"/test-sites/e-commerce/allinone/phones/touch\">\n",
       " \t\t\t\t\t\t\tTouch\n",
       " \t\t\t\t\t\t</a>]"
      ]
     },
     "execution_count": 68,
     "metadata": {},
     "output_type": "execute_result"
    }
   ],
   "source": [
    "phone_sub_category_tags = soup_phones.find_all('a', class_= 'subcategory-link')\n",
    "phone_sub_category_tags"
   ]
  },
  {
   "cell_type": "code",
   "execution_count": null,
   "metadata": {},
   "outputs": [
    {
     "data": {
      "text/plain": [
       "'Touch'"
      ]
     },
     "execution_count": 76,
     "metadata": {},
     "output_type": "execute_result"
    }
   ],
   "source": [
    "phone_sub_category_tags[0].text.strip()"
   ]
  },
  {
   "cell_type": "code",
   "execution_count": null,
   "metadata": {},
   "outputs": [
    {
     "data": {
      "text/plain": [
       "'https://webscraper.io/test-sites/e-commerce/allinone/phones/touch'"
      ]
     },
     "execution_count": 80,
     "metadata": {},
     "output_type": "execute_result"
    }
   ],
   "source": [
    "touch_phones_url = 'https://webscraper.io' + phone_sub_category_tags[0]['href']\n",
    "touch_phones_url"
   ]
  },
  {
   "cell_type": "code",
   "execution_count": null,
   "metadata": {},
   "outputs": [],
   "source": [
    "touch_phones_response = requests.get(touch_phones_url).text\n",
    "soup_touch_phones = BeautifulSoup(touch_phones_response,'lxml')\n",
    "\n",
    "# soup_touch_phones.prettify()"
   ]
  },
  {
   "cell_type": "code",
   "execution_count": null,
   "metadata": {},
   "outputs": [
    {
     "data": {
      "text/plain": [
       "<div class=\"card thumbnail\">\n",
       "<div class=\"product-wrapper card-body\">\n",
       "<img alt=\"item\" class=\"img-fluid card-img-top image img-responsive\" src=\"/images/test-sites/e-commerce/items/cart2.png\"/>\n",
       "<div class=\"caption\">\n",
       "<h4 class=\"price float-end card-title pull-right\">$24.99</h4>\n",
       "<h4>\n",
       "<a class=\"title\" href=\"/test-sites/e-commerce/allinone/product/1\" title=\"Nokia 123\">Nokia 123</a>\n",
       "</h4>\n",
       "<p class=\"description card-text\">7 day battery</p>\n",
       "</div>\n",
       "<div class=\"ratings\">\n",
       "<p class=\"review-count float-end\">11 reviews</p>\n",
       "<p data-rating=\"3\">\n",
       "<span class=\"ws-icon ws-icon-star\"></span>\n",
       "<span class=\"ws-icon ws-icon-star\"></span>\n",
       "<span class=\"ws-icon ws-icon-star\"></span>\n",
       "</p>\n",
       "</div>\n",
       "</div>\n",
       "</div>"
      ]
     },
     "execution_count": 102,
     "metadata": {},
     "output_type": "execute_result"
    }
   ],
   "source": [
    "touch_phones_content_tags = soup_touch_phones.find_all('div',class_='card thumbnail')\n",
    "touch_phones_content_tags[0]"
   ]
  },
  {
   "cell_type": "code",
   "execution_count": null,
   "metadata": {},
   "outputs": [],
   "source": [
    "touch_phones_titles = []\n",
    "touch_phones_prices = []\n",
    "touch_phones_ratings = []\n",
    "touch_phones_no_of_reviews = []\n",
    "touch_phones_captions = []\n",
    "\n",
    "for tag in touch_phones_content_tags:\n",
    "    touch_phones_titles.append((tag.find('a',class_='title'))['title'])\n",
    "    touch_phones_prices.append((tag.find('h4',class_='price')).text.strip())\n",
    "    touch_phones_ratings.append((tag.find('p',attrs={'data-rating':True})['data-rating']) + '/5 Stars')\n",
    "    touch_phones_no_of_reviews.append((tag.find('p',class_='review-count')).text.strip())\n",
    "    touch_phones_captions.append((tag.find('p',class_='description card-text')).text.strip())"
   ]
  },
  {
   "cell_type": "code",
   "execution_count": null,
   "metadata": {},
   "outputs": [
    {
     "data": {
      "text/html": [
       "<div>\n",
       "<style scoped>\n",
       "    .dataframe tbody tr th:only-of-type {\n",
       "        vertical-align: middle;\n",
       "    }\n",
       "\n",
       "    .dataframe tbody tr th {\n",
       "        vertical-align: top;\n",
       "    }\n",
       "\n",
       "    .dataframe thead th {\n",
       "        text-align: right;\n",
       "    }\n",
       "</style>\n",
       "<table border=\"1\" class=\"dataframe\">\n",
       "  <thead>\n",
       "    <tr style=\"text-align: right;\">\n",
       "      <th></th>\n",
       "      <th>Name</th>\n",
       "      <th>Price</th>\n",
       "      <th>Description</th>\n",
       "      <th>Rating</th>\n",
       "      <th>No. of reviews</th>\n",
       "    </tr>\n",
       "  </thead>\n",
       "  <tbody>\n",
       "    <tr>\n",
       "      <th>0</th>\n",
       "      <td>Nokia 123</td>\n",
       "      <td>$24.99</td>\n",
       "      <td>7 day battery</td>\n",
       "      <td>3/5 Stars</td>\n",
       "      <td>11 reviews</td>\n",
       "    </tr>\n",
       "    <tr>\n",
       "      <th>1</th>\n",
       "      <td>LG Optimus</td>\n",
       "      <td>$57.99</td>\n",
       "      <td>3.2\" screen</td>\n",
       "      <td>3/5 Stars</td>\n",
       "      <td>11 reviews</td>\n",
       "    </tr>\n",
       "    <tr>\n",
       "      <th>2</th>\n",
       "      <td>Samsung Galaxy</td>\n",
       "      <td>$93.99</td>\n",
       "      <td>5 mpx. Android 5.0</td>\n",
       "      <td>3/5 Stars</td>\n",
       "      <td>3 reviews</td>\n",
       "    </tr>\n",
       "    <tr>\n",
       "      <th>3</th>\n",
       "      <td>Nokia X</td>\n",
       "      <td>$109.99</td>\n",
       "      <td>Andoid, Jolla dualboot</td>\n",
       "      <td>4/5 Stars</td>\n",
       "      <td>4 reviews</td>\n",
       "    </tr>\n",
       "    <tr>\n",
       "      <th>4</th>\n",
       "      <td>Sony Xperia</td>\n",
       "      <td>$118.99</td>\n",
       "      <td>GPS, waterproof</td>\n",
       "      <td>1/5 Stars</td>\n",
       "      <td>6 reviews</td>\n",
       "    </tr>\n",
       "    <tr>\n",
       "      <th>5</th>\n",
       "      <td>Ubuntu Edge</td>\n",
       "      <td>$499.99</td>\n",
       "      <td>Sapphire glass</td>\n",
       "      <td>1/5 Stars</td>\n",
       "      <td>2 reviews</td>\n",
       "    </tr>\n",
       "    <tr>\n",
       "      <th>6</th>\n",
       "      <td>Iphone</td>\n",
       "      <td>$899.99</td>\n",
       "      <td>White</td>\n",
       "      <td>1/5 Stars</td>\n",
       "      <td>10 reviews</td>\n",
       "    </tr>\n",
       "    <tr>\n",
       "      <th>7</th>\n",
       "      <td>Iphone</td>\n",
       "      <td>$899.99</td>\n",
       "      <td>Silver</td>\n",
       "      <td>2/5 Stars</td>\n",
       "      <td>8 reviews</td>\n",
       "    </tr>\n",
       "    <tr>\n",
       "      <th>8</th>\n",
       "      <td>Iphone</td>\n",
       "      <td>$899.99</td>\n",
       "      <td>Black</td>\n",
       "      <td>1/5 Stars</td>\n",
       "      <td>1 reviews</td>\n",
       "    </tr>\n",
       "  </tbody>\n",
       "</table>\n",
       "</div>"
      ],
      "text/plain": [
       "             Name    Price             Description     Rating No. of reviews\n",
       "0       Nokia 123   $24.99           7 day battery  3/5 Stars     11 reviews\n",
       "1      LG Optimus   $57.99             3.2\" screen  3/5 Stars     11 reviews\n",
       "2  Samsung Galaxy   $93.99      5 mpx. Android 5.0  3/5 Stars      3 reviews\n",
       "3         Nokia X  $109.99  Andoid, Jolla dualboot  4/5 Stars      4 reviews\n",
       "4     Sony Xperia  $118.99         GPS, waterproof  1/5 Stars      6 reviews\n",
       "5     Ubuntu Edge  $499.99          Sapphire glass  1/5 Stars      2 reviews\n",
       "6          Iphone  $899.99                   White  1/5 Stars     10 reviews\n",
       "7          Iphone  $899.99                  Silver  2/5 Stars      8 reviews\n",
       "8          Iphone  $899.99                   Black  1/5 Stars      1 reviews"
      ]
     },
     "execution_count": 111,
     "metadata": {},
     "output_type": "execute_result"
    }
   ],
   "source": [
    "touch_phones_data_dict = {\n",
    "    'Name' : touch_phones_titles,\n",
    "    'Price' : touch_phones_prices,\n",
    "    'Description' : touch_phones_captions,\n",
    "    'Rating' : touch_phones_ratings,\n",
    "    'No. of reviews' : touch_phones_no_of_reviews\n",
    "    }\n",
    "\n",
    "pd.DataFrame(touch_phones_data_dict)"
   ]
  }
 ],
 "metadata": {
  "kernelspec": {
   "display_name": "Python 3",
   "language": "python",
   "name": "python3"
  },
  "language_info": {
   "codemirror_mode": {
    "name": "ipython",
    "version": 3
   },
   "file_extension": ".py",
   "mimetype": "text/x-python",
   "name": "python",
   "nbconvert_exporter": "python",
   "pygments_lexer": "ipython3",
   "version": "3.12.3"
  }
 },
 "nbformat": 4,
 "nbformat_minor": 2
}
